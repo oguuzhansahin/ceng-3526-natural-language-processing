{
 "cells": [
  {
   "cell_type": "markdown",
   "metadata": {
    "colab_type": "text",
    "id": "ACwXfVcs3By_"
   },
   "source": [
    "\n",
    "\n",
    "# TEXT CLASSIFICATION\n",
    "\n",
    "\n",
    "\n",
    "**In this task, data was cleaned and Bag of words are implemented. Creating a bag of words with about 5000 features takes 30 seconds. It can be optimized. For clustering, K-means algorithm is implemented from scratch. From the clustering result, K is selected as 30. However, it did not cluster properly. One of the random cluster has about 400 sample and rest of them were distributed other clusters.**\n",
    "\n",
    "\n"
   ]
  },
  {
   "cell_type": "code",
   "execution_count": 1,
   "metadata": {
    "colab": {
     "base_uri": "https://localhost:8080/",
     "height": 55
    },
    "colab_type": "code",
    "id": "WfAaN6Ae3Jpg",
    "outputId": "ad96d482-e279-4c18-d059-df7498d2766b"
   },
   "outputs": [],
   "source": [
    "import io, os\n",
    "import re as re\n",
    "import zipfile as zipfile\n",
    "import numpy as np\n",
    "import nltk\n",
    "import time\n",
    "def read_file(zipname):   \n",
    "    data = [] \n",
    "    with zipfile.ZipFile(zipname) as z:\n",
    "        for zipinfo in z.infolist():\n",
    "            mytextzip = ''\n",
    "            if zipinfo.filename.endswith('.txt') and re.search('raw_texts', zipinfo.filename):\n",
    "                with z.open(zipinfo) as f:\n",
    "                    textfile = io.TextIOWrapper(f, encoding='cp1254', newline='')\n",
    "                    for line in textfile:\n",
    "                        if len(line.strip()): mytextzip += ' ' + line.strip()   \n",
    "                    data.append(mytextzip)\n",
    "    return data\n",
    "kose_yazilari = read_file('30Columnists.zip')"
   ]
  },
  {
   "cell_type": "code",
   "execution_count": 2,
   "metadata": {},
   "outputs": [],
   "source": [
    "_STOP_WORDS = frozenset([\n",
    "'a', 'about', 'above', 'above', 'across', 'after', 'afterwards', 'again', \n",
    "'against', 'all', 'almost', 'alone', 'along', 'already', 'also','although',\n",
    "'always','am','among', 'amongst', 'amoungst', 'amount',  'an', 'and', 'another',\n",
    "'any','anyhow','anyone','anything','anyway', 'anywhere', 'are', 'around', 'as',\n",
    "'at', 'back','be','became', 'because','become','becomes', 'becoming', 'been', \n",
    "'before', 'beforehand', 'behind', 'being', 'below', 'beside', 'besides', \n",
    "'between', 'beyond', 'bill', 'both', 'bottom','but', 'by', 'call', 'can', \n",
    "'cannot', 'cant', 'co', 'con', 'could', 'couldnt', 'cry', 'de', 'describe', \n",
    "'detail', 'do', 'done', 'down', 'due', 'during', 'each', 'eg', 'eight', \n",
    "'either', 'eleven','else', 'elsewhere', 'empty', 'enough', 'etc', 'even', \n",
    "'ever', 'every', 'everyone', 'everything', 'everywhere', 'except', 'few', \n",
    "'fifteen', 'fify', 'fill', 'find', 'fire', 'first', 'five', 'for', 'former', \n",
    "'formerly', 'forty', 'found', 'four', 'from', 'front', 'full', 'further', 'get',\n",
    "'give', 'go', 'had', 'has', 'hasnt', 'have', 'he', 'hence', 'her', 'here', \n",
    "'hereafter', 'hereby', 'herein', 'hereupon', 'hers', 'herself', 'him', \n",
    "'himself', 'his', 'how', 'however', 'hundred', 'ie', 'if', 'in', 'inc', \n",
    "'indeed', 'interest', 'into', 'is', 'it', 'its', 'itself', 'keep', 'last', \n",
    "'latter', 'latterly', 'least', 'less', 'ltd', 'made', 'many', 'may', 'me', \n",
    "'meanwhile', 'might', 'mill', 'mine', 'more', 'moreover', 'most', 'mostly', \n",
    "'move', 'much', 'must', 'my', 'myself', 'name', 'namely', 'neither', 'never', \n",
    "'nevertheless', 'next', 'nine', 'no', 'nobody', 'none', 'noone', 'nor', 'not', \n",
    "'nothing', 'now', 'nowhere', 'of', 'off', 'often', 'on', 'once', 'one', 'only',\n",
    "'onto', 'or', 'other', 'others', 'otherwise', 'our', 'ours', 'ourselves', 'out',\n",
    "'over', 'own','part', 'per', 'perhaps', 'please', 'put', 'rather', 're', 'same',\n",
    "'see', 'seem', 'seemed', 'seeming', 'seems', 'serious', 'several', 'she', \n",
    "'should', 'show', 'side', 'since', 'sincere', 'six', 'sixty', 'so', 'some', \n",
    "'somehow', 'someone', 'something', 'sometime', 'sometimes', 'somewhere', \n",
    "'still', 'such', 'system', 'take', 'ten', 'than', 'that', 'the', 'their', \n",
    "'them', 'themselves', 'then', 'thence', 'there', 'thereafter', 'thereby', \n",
    "'therefore', 'therein', 'thereupon', 'these', 'they', 'thickv', 'thin', 'third',\n",
    "'this', 'those', 'though', 'three', 'through', 'throughout', 'thru', 'thus', \n",
    "'to', 'together', 'too', 'top', 'toward', 'towards', 'twelve', 'twenty', 'two', \n",
    "'un', 'under', 'until', 'up', 'upon', 'us', 'very', 'via', 'was', 'we', 'well', \n",
    "'were', 'what', 'whatever', 'when', 'whence', 'whenever', 'where', 'whereafter',\n",
    "'whereas', 'whereby', 'wherein', 'whereupon', 'wherever', 'whether', 'which', \n",
    "'while', 'whither', 'who', 'whoever', 'whole', 'whom', 'whose', 'why', 'will', \n",
    "'with', 'within', 'without', 'would', 'yet', 'you', 'your', 'yours', 'yourself',\n",
    "'yourselves', 'the','.',',','?','!','i','s',':'])"
   ]
  },
  {
   "cell_type": "code",
   "execution_count": 3,
   "metadata": {},
   "outputs": [],
   "source": [
    "def get_tokenize(text):       \n",
    "    acronym_each_dot = r\"(?:[a-z]\\.){2,}\"\n",
    "    acronym_end_dot = r\"\\b[a-z]{2,3}\\.\"\n",
    "    suffixes = r\"[a-z]{3,}' ?[a-z]{0,3}\"\n",
    "    numbers = r\"\\d+[.,:\\d]+\"\n",
    "    any_word = r\"[a-z]+\"\n",
    "    punctuations = r\"[a-z]*[.,!?;:]\"\n",
    "    word_regex = \"|\".join([acronym_each_dot,\n",
    "                           acronym_end_dot,\n",
    "                           suffixes,\n",
    "                           numbers,\n",
    "                           any_word,\n",
    "                           punctuations])    \n",
    "    return re.compile(\"%s\"%word_regex, re.I).findall(text)"
   ]
  },
  {
   "cell_type": "code",
   "execution_count": 4,
   "metadata": {},
   "outputs": [
    {
     "name": "stdout",
     "output_type": "stream",
     "text": [
      "It takes 14.331063508987427 seconds to clean. \n"
     ]
    }
   ],
   "source": [
    "def clean_text(corpus):  \n",
    "    start = time.time()\n",
    "    cleaned_words = []   \n",
    "    for text in corpus:\n",
    "        text = text.lower()\n",
    "        text = get_tokenize(text)\n",
    "        text = [y for y in text if not y in _STOP_WORDS]\n",
    "        stem =nltk.PorterStemmer()\n",
    "        text = [stem.stem(word)for word in text]\n",
    "        text =\" \".join(text)\n",
    "        cleaned_words.append(text) \n",
    "    finish=time.time()\n",
    "    print(f\"It takes {finish-start} seconds to clean. \")\n",
    "    return cleaned_words\n",
    "cleaned_text = clean_text(kose_yazilari)\n",
    "del(kose_yazilari)"
   ]
  },
  {
   "cell_type": "code",
   "execution_count": 5,
   "metadata": {},
   "outputs": [],
   "source": [
    "def create_word_freq(corpus,n):\n",
    "    word_freq = dict()\n",
    "    for document in corpus:    \n",
    "        tokens = get_tokenize(document)\n",
    "        for token in tokens:\n",
    "            if token in word_freq.keys():\n",
    "                word_freq[token] +=1        \n",
    "            else:\n",
    "                word_freq[token]=1  \n",
    "    most_freq = sorted(word_freq.items(),key=lambda x:x[1],reverse=True)\n",
    "    return dict(most_freq[:n])\n",
    "\n",
    "most_freq =create_word_freq(cleaned_text,5000)"
   ]
  },
  {
   "cell_type": "code",
   "execution_count": 6,
   "metadata": {},
   "outputs": [],
   "source": [
    "def create_bow(corpus):  \n",
    "    sentence_vectors = []\n",
    "    for document in corpus:\n",
    "        sentence_tokens = get_tokenize(document)\n",
    "        sent_vec=[]\n",
    "        for token in most_freq:        \n",
    "            if token in sentence_tokens:\n",
    "                sent_vec.append(1)\n",
    "            else:\n",
    "                sent_vec.append(0)   \n",
    "        sentence_vectors.append(sent_vec)\n",
    "    sentence_vectors = np.asarray(sentence_vectors)\n",
    "    return sentence_vectors\n",
    "\n",
    "bow = create_bow(cleaned_text)"
   ]
  },
  {
   "cell_type": "code",
   "execution_count": 7,
   "metadata": {},
   "outputs": [],
   "source": [
    "m = bow.shape[0] #number of training examples\n",
    "n = bow.shape[1] #number of features\n",
    "n_iter =100"
   ]
  },
  {
   "cell_type": "code",
   "execution_count": 8,
   "metadata": {},
   "outputs": [],
   "source": [
    "import random \n",
    "def initialize_centroids(k):   \n",
    "    centroids = np.array([]).reshape(n,0)\n",
    "    for centroid in range(k):\n",
    "        rand = random.randint(0,m-1)\n",
    "        centroids=np.c_[centroids,bow[rand]]\n",
    "    return centroids\n",
    "centroids = initialize_centroids(30)"
   ]
  },
  {
   "cell_type": "code",
   "execution_count": 9,
   "metadata": {},
   "outputs": [],
   "source": [
    "output = dict() #keys:centroid keys value : locationi\n",
    "def index_datapoints(k,x):\n",
    "    \n",
    "    euclidian_distance = np.array([]).reshape(m,0)\n",
    "\n",
    "    for i in range(k):  \n",
    "        tempDist=np.sum((x-centroids[:,i])**2,axis=1)\n",
    "        euclidian_distance=np.c_[euclidian_distance,tempDist]\n",
    "\n",
    "    c=np.argmin(euclidian_distance,axis=1)+1 #calculate index of datapoint by min distance.\n",
    "    return c\n",
    "c = index_datapoints(30,bow)"
   ]
  },
  {
   "cell_type": "code",
   "execution_count": 10,
   "metadata": {},
   "outputs": [],
   "source": [
    "def predict(n_iteration,K,m,bow):\n",
    "    \n",
    "    for i in range(n_iteration):\n",
    "        y=dict() \n",
    "        for k in range(K):\n",
    "            y[k+1] = np.array([]).reshape(n,0)\n",
    "        for i in range(m):\n",
    "            y[c[i]]=np.c_[y[c[i]],bow[i]]  \n",
    "        for k in range(K):\n",
    "            y[k+1]=y[k+1].T\n",
    "        for k in range(30):\n",
    "            centroids[:,k] = np.mean(y[k+1],axis=0)\n",
    "        output=y\n",
    "        \n",
    "        return output\n",
    "\n",
    "output= predict(1,30,m,bow)"
   ]
  },
  {
   "cell_type": "code",
   "execution_count": 11,
   "metadata": {},
   "outputs": [
    {
     "name": "stdout",
     "output_type": "stream",
     "text": [
      "Cluster  0  :  1 sample\n",
      "Cluster  1  :  1 sample\n",
      "Cluster  2  :  1 sample\n",
      "Cluster  3  :  3 sample\n",
      "Cluster  4  :  67 sample\n",
      "Cluster  5  :  1 sample\n",
      "Cluster  6  :  1 sample\n",
      "Cluster  7  :  1 sample\n",
      "Cluster  8  :  1 sample\n",
      "Cluster  9  :  1 sample\n",
      "Cluster  10  :  1 sample\n",
      "Cluster  11  :  1 sample\n",
      "Cluster  12  :  880 sample\n",
      "Cluster  13  :  1 sample\n",
      "Cluster  14  :  445 sample\n",
      "Cluster  15  :  1 sample\n",
      "Cluster  16  :  1 sample\n",
      "Cluster  17  :  1 sample\n",
      "Cluster  18  :  2 sample\n",
      "Cluster  19  :  1 sample\n",
      "Cluster  20  :  1 sample\n",
      "Cluster  21  :  15 sample\n",
      "Cluster  22  :  1 sample\n",
      "Cluster  23  :  1 sample\n",
      "Cluster  24  :  1 sample\n",
      "Cluster  25  :  1 sample\n",
      "Cluster  26  :  1 sample\n",
      "Cluster  27  :  10 sample\n",
      "Cluster  28  :  54 sample\n",
      "Cluster  29  :  3 sample\n"
     ]
    }
   ],
   "source": [
    "count=0\n",
    "for value in output.values():  \n",
    "    print(\"Cluster \",count,\" : \",\n",
    "          len(value),\"sample\")\n",
    "    count=count+1\n",
    "    "
   ]
  },
  {
   "cell_type": "markdown",
   "metadata": {},
   "source": [
    "\n"
   ]
  }
 ],
 "metadata": {
  "colab": {
   "collapsed_sections": [
    "L39jrAuH2-j-",
    "ACwXfVcs3By_"
   ],
   "name": "CENG3526-NLP-HW-Template.ipynb",
   "provenance": []
  },
  "kernelspec": {
   "display_name": "Python 3",
   "language": "python",
   "name": "python3"
  },
  "language_info": {
   "codemirror_mode": {
    "name": "ipython",
    "version": 3
   },
   "file_extension": ".py",
   "mimetype": "text/x-python",
   "name": "python",
   "nbconvert_exporter": "python",
   "pygments_lexer": "ipython3",
   "version": "3.7.4"
  }
 },
 "nbformat": 4,
 "nbformat_minor": 1
}
