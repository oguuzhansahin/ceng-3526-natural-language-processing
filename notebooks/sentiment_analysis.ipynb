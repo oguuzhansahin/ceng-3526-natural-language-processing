{
 "cells": [
  {
   "cell_type": "markdown",
   "metadata": {
    "colab_type": "text",
    "id": "ACwXfVcs3By_"
   },
   "source": [
    "\n",
    "```\n",
    "\n",
    "# SENTIMENT ANALYSIS\n",
    " \n",
    "\n",
    "**For this sentiment analysis task, one of the methods for count vectorizing is that bag of words(bow) is used. Also for the parf of ML,\n",
    "KNN is implemented from scratch. I wrote a train_test_split function instead of using sklearn.model_selection library. In my function, corpus is shuffled randomly every time it run. Because of that accuracy may change. I saw 70% as maximum. Then I compared the accuracy with SVM using library. I saw the accuracy around 40%. My result looked like better than it. Infact it's pretty low since there is no lemmetization or stemming.\n",
    "It can be fixed.** \n"
   ]
  },
  {
   "cell_type": "code",
   "execution_count": 2,
   "metadata": {
    "colab": {
     "base_uri": "https://localhost:8080/",
     "height": 55
    },
    "colab_type": "code",
    "id": "WfAaN6Ae3Jpg",
    "outputId": "ad96d482-e279-4c18-d059-df7498d2766b"
   },
   "outputs": [
    {
     "ename": "FileNotFoundError",
     "evalue": "[Errno 2] No such file or directory: 'film_yorumlari.zip'",
     "output_type": "error",
     "traceback": [
      "\u001b[1;31m---------------------------------------------------------------------------\u001b[0m",
      "\u001b[1;31mFileNotFoundError\u001b[0m                         Traceback (most recent call last)",
      "\u001b[1;32m<ipython-input-2-3441f30d1d7f>\u001b[0m in \u001b[0;36m<module>\u001b[1;34m\u001b[0m\n\u001b[0;32m     15\u001b[0m     \u001b[1;32mreturn\u001b[0m \u001b[0mfilm_yorumlari\u001b[0m\u001b[1;33m,\u001b[0m\u001b[0mlabels\u001b[0m\u001b[1;33m\u001b[0m\u001b[1;33m\u001b[0m\u001b[0m\n\u001b[0;32m     16\u001b[0m \u001b[1;33m\u001b[0m\u001b[0m\n\u001b[1;32m---> 17\u001b[1;33m \u001b[0mfilm_yorumlari\u001b[0m\u001b[1;33m,\u001b[0m\u001b[0mlabels\u001b[0m \u001b[1;33m=\u001b[0m \u001b[0mread_file\u001b[0m\u001b[1;33m(\u001b[0m\u001b[1;34m'film_yorumlari.zip'\u001b[0m\u001b[1;33m)\u001b[0m\u001b[1;33m\u001b[0m\u001b[1;33m\u001b[0m\u001b[0m\n\u001b[0m",
      "\u001b[1;32m<ipython-input-2-3441f30d1d7f>\u001b[0m in \u001b[0;36mread_file\u001b[1;34m(zipname)\u001b[0m\n\u001b[0;32m      7\u001b[0m \u001b[1;32mdef\u001b[0m \u001b[0mread_file\u001b[0m\u001b[1;33m(\u001b[0m\u001b[0mzipname\u001b[0m\u001b[1;33m)\u001b[0m\u001b[1;33m:\u001b[0m\u001b[1;33m\u001b[0m\u001b[1;33m\u001b[0m\u001b[0m\n\u001b[0;32m      8\u001b[0m \u001b[1;33m\u001b[0m\u001b[0m\n\u001b[1;32m----> 9\u001b[1;33m     \u001b[1;32mwith\u001b[0m \u001b[0mzipfile\u001b[0m\u001b[1;33m.\u001b[0m\u001b[0mZipFile\u001b[0m\u001b[1;33m(\u001b[0m\u001b[0mzipname\u001b[0m\u001b[1;33m)\u001b[0m \u001b[1;32mas\u001b[0m \u001b[0mz\u001b[0m\u001b[1;33m:\u001b[0m\u001b[1;33m\u001b[0m\u001b[1;33m\u001b[0m\u001b[0m\n\u001b[0m\u001b[0;32m     10\u001b[0m       \u001b[1;32mfor\u001b[0m \u001b[0mzipinfo\u001b[0m \u001b[1;32min\u001b[0m \u001b[0mz\u001b[0m\u001b[1;33m.\u001b[0m\u001b[0minfolist\u001b[0m\u001b[1;33m(\u001b[0m\u001b[1;33m)\u001b[0m \u001b[1;33m:\u001b[0m\u001b[1;33m\u001b[0m\u001b[1;33m\u001b[0m\u001b[0m\n\u001b[0;32m     11\u001b[0m         \u001b[1;32mif\u001b[0m \u001b[0mzipinfo\u001b[0m\u001b[1;33m.\u001b[0m\u001b[0mfilename\u001b[0m\u001b[1;33m.\u001b[0m\u001b[0mendswith\u001b[0m\u001b[1;33m(\u001b[0m\u001b[1;34m'.txt'\u001b[0m\u001b[1;33m)\u001b[0m\u001b[1;32mand\u001b[0m \u001b[0mre\u001b[0m\u001b[1;33m.\u001b[0m\u001b[0msearch\u001b[0m\u001b[1;33m(\u001b[0m\u001b[1;34m'raw_texts/'\u001b[0m\u001b[1;33m,\u001b[0m \u001b[0mzipinfo\u001b[0m\u001b[1;33m.\u001b[0m\u001b[0mfilename\u001b[0m\u001b[1;33m)\u001b[0m\u001b[1;33m:\u001b[0m\u001b[1;33m\u001b[0m\u001b[1;33m\u001b[0m\u001b[0m\n",
      "\u001b[1;32m~\\Anaconda3\\lib\\zipfile.py\u001b[0m in \u001b[0;36m__init__\u001b[1;34m(self, file, mode, compression, allowZip64, compresslevel)\u001b[0m\n\u001b[0;32m   1205\u001b[0m             \u001b[1;32mwhile\u001b[0m \u001b[1;32mTrue\u001b[0m\u001b[1;33m:\u001b[0m\u001b[1;33m\u001b[0m\u001b[1;33m\u001b[0m\u001b[0m\n\u001b[0;32m   1206\u001b[0m                 \u001b[1;32mtry\u001b[0m\u001b[1;33m:\u001b[0m\u001b[1;33m\u001b[0m\u001b[1;33m\u001b[0m\u001b[0m\n\u001b[1;32m-> 1207\u001b[1;33m                     \u001b[0mself\u001b[0m\u001b[1;33m.\u001b[0m\u001b[0mfp\u001b[0m \u001b[1;33m=\u001b[0m \u001b[0mio\u001b[0m\u001b[1;33m.\u001b[0m\u001b[0mopen\u001b[0m\u001b[1;33m(\u001b[0m\u001b[0mfile\u001b[0m\u001b[1;33m,\u001b[0m \u001b[0mfilemode\u001b[0m\u001b[1;33m)\u001b[0m\u001b[1;33m\u001b[0m\u001b[1;33m\u001b[0m\u001b[0m\n\u001b[0m\u001b[0;32m   1208\u001b[0m                 \u001b[1;32mexcept\u001b[0m \u001b[0mOSError\u001b[0m\u001b[1;33m:\u001b[0m\u001b[1;33m\u001b[0m\u001b[1;33m\u001b[0m\u001b[0m\n\u001b[0;32m   1209\u001b[0m                     \u001b[1;32mif\u001b[0m \u001b[0mfilemode\u001b[0m \u001b[1;32min\u001b[0m \u001b[0mmodeDict\u001b[0m\u001b[1;33m:\u001b[0m\u001b[1;33m\u001b[0m\u001b[1;33m\u001b[0m\u001b[0m\n",
      "\u001b[1;31mFileNotFoundError\u001b[0m: [Errno 2] No such file or directory: 'film_yorumlari.zip'"
     ]
    }
   ],
   "source": [
    "import io, os\n",
    "import re as re\n",
    "import zipfile as zipfile\n",
    "import numpy as np\n",
    "film_yorumlari =[]\n",
    "labels=[]\n",
    "def read_file(zipname):\n",
    "    \n",
    "    with zipfile.ZipFile(zipname) as z:\n",
    "      for zipinfo in z.infolist() :\n",
    "        if zipinfo.filename.endswith('.txt')and re.search('raw_texts/', zipinfo.filename):\n",
    "            labels.append(zipinfo.filename.split(\"/\")[2])\n",
    "            with open(zipinfo.filename,\"r\") as f:\n",
    "                film_yorumlari.append(f.read())\n",
    "    return film_yorumlari,labels\n",
    "\n",
    "film_yorumlari,labels = read_file('film_yorumlari.zip')"
   ]
  },
  {
   "cell_type": "code",
   "execution_count": 41,
   "metadata": {},
   "outputs": [],
   "source": [
    "labels = np.asarray([0 if label==\"negatif\" else 1 if label==\"pozitif\" else 2 for label in labels]\n",
    "                  ).reshape(-1,1)# list comprehensions for labels\n"
   ]
  },
  {
   "cell_type": "code",
   "execution_count": 42,
   "metadata": {},
   "outputs": [],
   "source": [
    "def get_tokenize(text):        \n",
    "    acronym_each_dot = r\"(?:[a-zğçşöüı]\\.){2,}\"\n",
    "    acronym_end_dot = r\"\\b[a-zğçşöüı]{2,3}\\.\"\n",
    "    suffixes = r\"[a-zğçşöüı]{3,}' ?[a-zğçşöüı]{0,3}\"\n",
    "    numbers = r\"\\d+[.,:\\d]+\"\n",
    "    any_word = r\"[a-zğçşöüı]+\"\n",
    "    punctuations = r\"[a-zğçşöüı]*[.,!?;:]\"\n",
    "    word_regex = \"|\".join([acronym_each_dot,\n",
    "                           acronym_end_dot,\n",
    "                           suffixes,\n",
    "                           numbers,\n",
    "                           any_word,\n",
    "                           punctuations])    \n",
    "    return re.compile(\"%s\"%word_regex, re.I).findall(text)"
   ]
  },
  {
   "cell_type": "code",
   "execution_count": 43,
   "metadata": {},
   "outputs": [],
   "source": [
    "stopwords= frozenset([\"acaba\",\"ama\",\"ancak\",\"arada\",\"bana\",\"belki\",\"ben\",\"benden\",\n",
    "                         \"beni\",\"bence\",\"benim\",\"beri\",\"bile\",\"bi\",\"bin\",\"bir\",\"biraz\",\"biri\",\"birkez\",\n",
    "                         \"biz\",\"bize\",\"bizden\",\"bizim\",\"böyle\",\"bu\",\"buna\",\"bunda\",\"bundan\",\n",
    "                         \"bunlar\",\"bunu\",\"bunun\",\"burada\",\"çok\",\"da\",\"daha\",\"dahi\",\"de\",\"değil\",\"defa\",\n",
    "                         \"diye\",\"doksan\",\"edecek\",\"eden\",\"ederek\",\"edilecek\",\"ediliyor\",\n",
    "                         \"ediyor\",\"elli\",\"en\",\"etmesi\",\"etti\",\"fakat\",\"gibi\",\"halen\",\"hangi\",\n",
    "                         \"hatta\",\"hem\",\"hep\",\"hepsi\",\"her\",\"herhangi\",\"herkesin\",\"için\",\"iki\",\n",
    "                         \"ile\",\"ilgili\",\"ise\",\"itibaren\",\"itibariyle\",\"kadar\",\"kendi\",\n",
    "                         \"kendilerine\",\"kendini\",\"kendisi\",\"kendisine\",\"kez\",\"ki\",\"kim\",\n",
    "                         \"kimden\",\"kime\",\"kimi\",\"kimse\",\"milyar\",\"milyon\",\"mu\",\"ne\",\n",
    "                         \"neden\",\"nedenle\",\"nerde\",\"nerede\",\"nereye\",\"niye\",\"olan\",\n",
    "                         \"olarak\",\"oldu\",\"olduğu\",\"olduğunu\",\"olmuş\",\"olmak\",\"olmayan\",\"olmaz\",\"olsa\",\"olsun\",\n",
    "                         \"olup\",\"olur\",\"olursa\",\"oluyor\",\"on\",\"ona\",\"ondan\",\"onlar\",\n",
    "                         \"onlardan\",\"onu\",\"onun\",\"oysa\",\"öyle\",\"pek\",\"sadece\",\"sanki\",\"sekiz\",\n",
    "                         \"sen\",\"senden\",\"seni\",\"senin\",\"siz\",\"sizden\",\"sizi\",\"sizin\",\"sonra\",\"şey\",\"tam\",\"tek\",\"tüm\",\n",
    "                         \"var\",\"var.\",\"ve\",\"veya\",\"ya\",\"yani\",\"yapacak\",\"yapmak\",\"yapılmış\",\"yok\",\"yok.\",\"yine\",\"yoksa\",\n",
    "                         \"zaten\",\".\",\",\",\":\",\";\",\"?\",\"!\",\"i\",\"o\"])"
   ]
  },
  {
   "cell_type": "code",
   "execution_count": 44,
   "metadata": {},
   "outputs": [],
   "source": [
    "def clean_text():\n",
    "    cleaned_text = []\n",
    "    for yorum in film_yorumlari:\n",
    "        yorum = yorum.lower()\n",
    "        yorum = get_tokenize(yorum)\n",
    "        yorum = [y for y in yorum if not y in stopwords]\n",
    "        yorum =\" \".join(yorum)\n",
    "        cleaned_text.append(yorum) \n",
    "    return cleaned_text\n",
    "cleaned_text = clean_text()\n",
    "del(film_yorumlari)"
   ]
  },
  {
   "cell_type": "code",
   "execution_count": 45,
   "metadata": {},
   "outputs": [],
   "source": [
    "def create_word_freq(corpus,n):\n",
    "    word_freq = dict()\n",
    "    for document in corpus:    \n",
    "        tokens = get_tokenize(document)\n",
    "        for token in tokens:\n",
    "            if token in word_freq.keys():\n",
    "                word_freq[token] +=1        \n",
    "            else:\n",
    "                word_freq[token]=1  \n",
    "    most_freq = sorted(word_freq.items(),key=lambda x:x[1],reverse=True)\n",
    "    return dict(most_freq[:n])\n",
    "\n",
    "most_freq =create_word_freq(cleaned_text,30)"
   ]
  },
  {
   "cell_type": "code",
   "execution_count": 46,
   "metadata": {},
   "outputs": [],
   "source": [
    "def create_bow(corpus):  \n",
    "    sentence_vectors = []\n",
    "    for document in corpus:\n",
    "        sentence_tokens = get_tokenize(document)\n",
    "        sent_vec=[]\n",
    "        for token in most_freq:        \n",
    "            if token in sentence_tokens:\n",
    "                sent_vec.append(1)\n",
    "            else:\n",
    "                sent_vec.append(0)   \n",
    "        sentence_vectors.append(sent_vec)\n",
    "    sentence_vectors = np.asarray(sentence_vectors)\n",
    "    return sentence_vectors\n",
    "\n",
    "bow = create_bow(cleaned_text)\n"
   ]
  },
  {
   "cell_type": "code",
   "execution_count": 49,
   "metadata": {},
   "outputs": [],
   "source": [
    "def train_test_split(x,y,test_size):\n",
    "    xy = np.concatenate((x,y),axis=1)\n",
    "    np.random.shuffle(xy)\n",
    "    test_size = test_size*x.shape[0]\n",
    "    \n",
    "    x = xy[...,:-1]\n",
    "    y = xy[...,-1]\n",
    "    \n",
    "    x_train = x[int(test_size):]\n",
    "    x_test  = x[:int(test_size)]\n",
    "    y_train = y[int(test_size):].reshape(-1,1)\n",
    "    y_test  = y[:int(test_size)].reshape(-1,1)\n",
    "    \n",
    "    return x_train,x_test,y_train,y_test\n",
    "#%%\n",
    "x_train,x_test,y_train,y_test = train_test_split(bow,labels,test_size=0.2)\n"
   ]
  },
  {
   "cell_type": "code",
   "execution_count": 50,
   "metadata": {},
   "outputs": [],
   "source": [
    "def euclidean_distance(x1, x2):   \n",
    "        return np.sqrt(np.sum((x1 - x2)**2))\n",
    "    \n",
    "def _predict(x_test,k):\n",
    "    \n",
    "    distances= [euclidean_distance(x_test, x_) for x_ in x_train]\n",
    "    distances = np.asarray(distances)\n",
    "    k_indexs = np.argsort(distances)[:k]\n",
    "    k_neighbours_labels = [y_train[i] for i in k_indexs] \n",
    "    counts=dict()\n",
    "    for i in k_neighbours_labels:\n",
    "        for j in i:\n",
    "            if j in counts.keys():\n",
    "                counts[j]+=1\n",
    "            else:\n",
    "                counts[j]=1\n",
    "    most_freq = sorted(counts.items(),key=lambda x:x[1],reverse=True)\n",
    "    return most_freq[0][0]\n",
    "\n",
    "def predict(test,k):   \n",
    "    predictions=[]\n",
    "    for i in test:   \n",
    "        predictions.append(_predict(i,k))       \n",
    "    return np.array(predictions)\n"
   ]
  },
  {
   "cell_type": "code",
   "execution_count": 51,
   "metadata": {},
   "outputs": [
    {
     "name": "stdout",
     "output_type": "stream",
     "text": [
      "38.095238095238095\n"
     ]
    }
   ],
   "source": [
    "predictions = predict(x_test,17).reshape(-1,1)\n",
    "accuracy  = np.sum(y_test == predictions)/len(y_test)*100\n",
    "print(accuracy)"
   ]
  },
  {
   "cell_type": "code",
   "execution_count": 52,
   "metadata": {},
   "outputs": [
    {
     "name": "stdout",
     "output_type": "stream",
     "text": [
      "Best KNN Value : 3\n"
     ]
    }
   ],
   "source": [
    "#Implementing score list for k neighbour between 1 and 30.\n",
    "score_list = []\n",
    "for each in range(1,30):        \n",
    "    prediction =predict(x_test,each).reshape(-1,1)\n",
    "    accuracy  = np.sum(y_test == prediction)/len(y_test)*100  \n",
    "    score_list.append(accuracy)\n",
    "best_knn_value = score_list.index(max(score_list))+1\n",
    "print(f\"Best KNN Value : {best_knn_value}\")\n"
   ]
  },
  {
   "cell_type": "code",
   "execution_count": 53,
   "metadata": {},
   "outputs": [
    {
     "data": {
      "image/png": "[encoded data removed]",
      "text/plain": [
       "<Figure size 432x288 with 1 Axes>"
      ]
     },
     "metadata": {
      "needs_background": "light"
     },
     "output_type": "display_data"
    }
   ],
   "source": [
    "import matplotlib.pyplot as plt\n",
    "plt.plot([each for each in range(1,30)],score_list)\n",
    "plt.xlabel(\"Number of K\")\n",
    "plt.ylabel(\"Score List\")\n",
    "plt.show()"
   ]
  },
  {
   "cell_type": "code",
   "execution_count": 54,
   "metadata": {
    "scrolled": true
   },
   "outputs": [
    {
     "name": "stdout",
     "output_type": "stream",
     "text": [
      "accuracy is :42.857142857142854 \n"
     ]
    },
    {
     "name": "stderr",
     "output_type": "stream",
     "text": [
      "C:\\Users\\Ogi\\Anaconda3\\lib\\site-packages\\sklearn\\utils\\validation.py:760: DataConversionWarning: A column-vector y was passed when a 1d array was expected. Please change the shape of y to (n_samples, ), for example using ravel().\n",
      "  y = column_or_1d(y, warn=True)\n"
     ]
    }
   ],
   "source": [
    "from sklearn.linear_model import LogisticRegression\n",
    "lr = LogisticRegression()\n",
    "lr.fit(x_train,y_train)\n",
    "\n",
    "y_predict_lr=lr.predict(x_test).reshape(-1,1)\n",
    "accuracy  = np.sum(y_test == y_predict_lr)/len(y_test)*100\n",
    "print(f\"accuracy is :{accuracy} \")"
   ]
  },
  {
   "cell_type": "markdown",
   "metadata": {},
   "source": []
  },
  {
   "cell_type": "code",
   "execution_count": null,
   "metadata": {},
   "outputs": [],
   "source": []
  }
 ],
 "metadata": {
  "colab": {
   "collapsed_sections": [
    "L39jrAuH2-j-",
    "ACwXfVcs3By_"
   ],
   "name": "CENG3526-NLP-HW-Template.ipynb",
   "provenance": []
  },
  "kernelspec": {
   "display_name": "Python 3",
   "language": "python",
   "name": "python3"
  },
  "language_info": {
   "codemirror_mode": {
    "name": "ipython",
    "version": 3
   },
   "file_extension": ".py",
   "mimetype": "text/x-python",
   "name": "python",
   "nbconvert_exporter": "python",
   "pygments_lexer": "ipython3",
   "version": "3.8.3"
  }
 },
 "nbformat": 4,
 "nbformat_minor": 1
}
