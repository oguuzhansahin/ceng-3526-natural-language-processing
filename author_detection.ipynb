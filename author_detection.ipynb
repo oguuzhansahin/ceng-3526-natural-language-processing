{
 "cells": [
  {
   "cell_type": "markdown",
   "metadata": {
    "colab_type": "text",
    "id": "ACwXfVcs3By_"
   },
   "source": [
    "# CENG 3526 NLP MIDTERM\n",
    "\n",
    "To use this code, upload the appropirate *.zip file to colab.\n",
    "\n",
    "Example code expects the \"30Columnists.zip\" file be uploded and ready in the GCE backend. \n",
    "\n",
    "To do that, you can also mount your **google drive** and use the datasets from there.\n",
    "\n",
    "Also you can use the **git repo** to download the zip files: \n",
    "\n",
    "https://github.com/dtaner/CENG3526/blob/master/30Columnists.zip\n",
    "\n",
    "or check out (clone) the repo to use datasets.\n",
    "\n",
    "```\n",
    "# Clone the entire repo.\n",
    "!git clone -l -s https://github.com/dtaner/CENG3526.git cloned-repo\n",
    "%cd cloned-repo\n",
    "!ls\n",
    "```\n",
    "\n",
    "# 2-AUTHOR DETECTION\n",
    "\n",
    "**OGUZHAN SAHIN 160709027**\n",
    "\n",
    "**Bag of words and KNN were implemented for this task. It is obviously seems that KNN is does not make sense for multiple classes. I get pretty low accuracy like 22%. When ML algorithms implemented such as Logistic Regression and Support Vector Machines is seems that accuracy is like 86%.**\n"
   ]
  },
  {
   "cell_type": "code",
   "execution_count": 1,
   "metadata": {
    "colab": {
     "base_uri": "https://localhost:8080/",
     "height": 55
    },
    "colab_type": "code",
    "id": "WfAaN6Ae3Jpg",
    "outputId": "ad96d482-e279-4c18-d059-df7498d2766b"
   },
   "outputs": [],
   "source": [
    "import io, os\n",
    "import re as re\n",
    "import zipfile as zipfile\n",
    "import numpy as np\n",
    "import nltk\n",
    "import time\n",
    "def read_file(zipname):   \n",
    "    data = [] \n",
    "    labels=[]\n",
    "    with zipfile.ZipFile(zipname) as z:\n",
    "        for zipinfo in z.infolist():\n",
    "            mytextzip = ''\n",
    "            if zipinfo.filename.endswith('.txt') and re.search('raw_texts', zipinfo.filename):\n",
    "                labels.append(int(zipinfo.filename.split(\"/\")[2]))\n",
    "                with z.open(zipinfo) as f:\n",
    "                    textfile = io.TextIOWrapper(f, encoding='cp1254', newline='')\n",
    "                    for line in textfile:\n",
    "                        if len(line.strip()): mytextzip += ' ' + line.strip()   \n",
    "                    data.append(mytextzip)\n",
    "    return data,labels\n",
    "kose_yazilari,labels= read_file('30Columnists.zip')\n",
    "labels=np.array(labels).reshape(-1,1)"
   ]
  },
  {
   "cell_type": "code",
   "execution_count": 2,
   "metadata": {},
   "outputs": [],
   "source": [
    "_STOP_WORDS = frozenset([\n",
    "'a', 'about', 'above', 'above', 'across', 'after', 'afterwards', 'again', \n",
    "'against', 'all', 'almost', 'alone', 'along', 'already', 'also','although',\n",
    "'always','am','among', 'amongst', 'amoungst', 'amount',  'an', 'and', 'another',\n",
    "'any','anyhow','anyone','anything','anyway', 'anywhere', 'are', 'around', 'as',\n",
    "'at', 'back','be','became', 'because','become','becomes', 'becoming', 'been', \n",
    "'before', 'beforehand', 'behind', 'being', 'below', 'beside', 'besides', \n",
    "'between', 'beyond', 'bill', 'both', 'bottom','but', 'by', 'call', 'can', \n",
    "'cannot', 'cant', 'co', 'con', 'could', 'couldnt', 'cry', 'de', 'describe', \n",
    "'detail', 'do', 'done', 'down', 'due', 'during', 'each', 'eg', 'eight', \n",
    "'either', 'eleven','else', 'elsewhere', 'empty', 'enough', 'etc', 'even', \n",
    "'ever', 'every', 'everyone', 'everything', 'everywhere', 'except', 'few', \n",
    "'fifteen', 'fify', 'fill', 'find', 'fire', 'first', 'five', 'for', 'former', \n",
    "'formerly', 'forty', 'found', 'four', 'from', 'front', 'full', 'further', 'get',\n",
    "'give', 'go', 'had', 'has', 'hasnt', 'have', 'he', 'hence', 'her', 'here', \n",
    "'hereafter', 'hereby', 'herein', 'hereupon', 'hers', 'herself', 'him', \n",
    "'himself', 'his', 'how', 'however', 'hundred', 'ie', 'if', 'in', 'inc', \n",
    "'indeed', 'interest', 'into', 'is', 'it', 'its', 'itself', 'keep', 'last', \n",
    "'latter', 'latterly', 'least', 'less', 'ltd', 'made', 'many', 'may', 'me', \n",
    "'meanwhile', 'might', 'mill', 'mine', 'more', 'moreover', 'most', 'mostly', \n",
    "'move', 'much', 'must', 'my', 'myself', 'name', 'namely', 'neither', 'never', \n",
    "'nevertheless', 'next', 'nine', 'no', 'nobody', 'none', 'noone', 'nor', 'not', \n",
    "'nothing', 'now', 'nowhere', 'of', 'off', 'often', 'on', 'once', 'one', 'only',\n",
    "'onto', 'or', 'other', 'others', 'otherwise', 'our', 'ours', 'ourselves', 'out',\n",
    "'over', 'own','part', 'per', 'perhaps', 'please', 'put', 'rather', 're', 'same',\n",
    "'see', 'seem', 'seemed', 'seeming', 'seems', 'serious', 'several', 'she', \n",
    "'should', 'show', 'side', 'since', 'sincere', 'six', 'sixty', 'so', 'some', \n",
    "'somehow', 'someone', 'something', 'sometime', 'sometimes', 'somewhere', \n",
    "'still', 'such', 'system', 'take', 'ten', 'than', 'that', 'the', 'their', \n",
    "'them', 'themselves', 'then', 'thence', 'there', 'thereafter', 'thereby', \n",
    "'therefore', 'therein', 'thereupon', 'these', 'they', 'thickv', 'thin', 'third',\n",
    "'this', 'those', 'though', 'three', 'through', 'throughout', 'thru', 'thus', \n",
    "'to', 'together', 'too', 'top', 'toward', 'towards', 'twelve', 'twenty', 'two', \n",
    "'un', 'under', 'until', 'up', 'upon', 'us', 'very', 'via', 'was', 'we', 'well', \n",
    "'were', 'what', 'whatever', 'when', 'whence', 'whenever', 'where', 'whereafter',\n",
    "'whereas', 'whereby', 'wherein', 'whereupon', 'wherever', 'whether', 'which', \n",
    "'while', 'whither', 'who', 'whoever', 'whole', 'whom', 'whose', 'why', 'will', \n",
    "'with', 'within', 'without', 'would', 'yet', 'you', 'your', 'yours', 'yourself',\n",
    "'yourselves', 'the','.',',','?','!','i','s',':'])"
   ]
  },
  {
   "cell_type": "code",
   "execution_count": 3,
   "metadata": {},
   "outputs": [],
   "source": [
    "def get_tokenize(text):       \n",
    "    acronym_each_dot = r\"(?:[a-z]\\.){2,}\"\n",
    "    acronym_end_dot = r\"\\b[a-z]{2,3}\\.\"\n",
    "    suffixes = r\"[a-z]{3,}' ?[a-z]{0,3}\"\n",
    "    numbers = r\"\\d+[.,:\\d]+\"\n",
    "    any_word = r\"[a-z]+\"\n",
    "    punctuations = r\"[a-z]*[.,!?;:]\"\n",
    "    word_regex = \"|\".join([acronym_each_dot,\n",
    "                           acronym_end_dot,\n",
    "                           suffixes,\n",
    "                           numbers,\n",
    "                           any_word,\n",
    "                           punctuations])    \n",
    "    return re.compile(\"%s\"%word_regex, re.I).findall(text)"
   ]
  },
  {
   "cell_type": "code",
   "execution_count": 4,
   "metadata": {},
   "outputs": [
    {
     "name": "stdout",
     "output_type": "stream",
     "text": [
      "It takes 11.994996309280396 seconds to clean. \n"
     ]
    }
   ],
   "source": [
    "def clean_text(corpus):  \n",
    "    start = time.time()\n",
    "    cleaned_words = []   \n",
    "    for text in corpus:\n",
    "        text = text.lower()\n",
    "        text = get_tokenize(text)\n",
    "        text = [y for y in text if not y in _STOP_WORDS]\n",
    "        stem =nltk.PorterStemmer()\n",
    "        text = [stem.stem(word)for word in text]\n",
    "        text =\" \".join(text)\n",
    "        cleaned_words.append(text) \n",
    "    finish=time.time()\n",
    "    print(f\"It takes {finish-start} seconds to clean. \")\n",
    "    return cleaned_words\n",
    "cleaned_text = clean_text(kose_yazilari)\n",
    "del(kose_yazilari)"
   ]
  },
  {
   "cell_type": "code",
   "execution_count": 5,
   "metadata": {},
   "outputs": [],
   "source": [
    "def create_word_freq(corpus,n):\n",
    "    word_freq = dict()\n",
    "    for document in corpus:    \n",
    "        tokens = get_tokenize(document)\n",
    "        for token in tokens:\n",
    "            if token in word_freq.keys():\n",
    "                word_freq[token] +=1        \n",
    "            else:\n",
    "                word_freq[token]=1  \n",
    "    most_freq = sorted(word_freq.items(),key=lambda x:x[1],reverse=True)\n",
    "    return dict(most_freq[:n])\n",
    "\n",
    "most_freq =create_word_freq(cleaned_text,1000)"
   ]
  },
  {
   "cell_type": "code",
   "execution_count": 6,
   "metadata": {},
   "outputs": [],
   "source": [
    "def create_bow(corpus):  \n",
    "    sentence_vectors = []\n",
    "    for document in corpus:\n",
    "        sentence_tokens = get_tokenize(document)\n",
    "        sent_vec=[]\n",
    "        for token in most_freq:        \n",
    "            if token in sentence_tokens:\n",
    "                sent_vec.append(1)\n",
    "            else:\n",
    "                sent_vec.append(0)   \n",
    "        sentence_vectors.append(sent_vec)\n",
    "    sentence_vectors = np.asarray(sentence_vectors)\n",
    "    return sentence_vectors\n",
    "\n",
    "bow = create_bow(cleaned_text)"
   ]
  },
  {
   "cell_type": "code",
   "execution_count": 7,
   "metadata": {},
   "outputs": [],
   "source": [
    "def train_test_split(x,y,test_size):\n",
    "    xy = np.concatenate((x,y),axis=1)\n",
    "    np.random.shuffle(xy)\n",
    "    test_size = test_size*x.shape[0]\n",
    "    \n",
    "    x = xy[...,:-1]\n",
    "    y = xy[...,-1]\n",
    "    \n",
    "    x_train = x[int(test_size):]\n",
    "    x_test  = x[:int(test_size)]\n",
    "    y_train = y[int(test_size):].reshape(-1,1)\n",
    "    y_test  = y[:int(test_size)].reshape(-1,1)\n",
    "    \n",
    "    return x_train,x_test,y_train,y_test\n",
    "\n",
    "x_train,x_test,y_train,y_test = train_test_split(bow,labels,test_size=0.1)"
   ]
  },
  {
   "cell_type": "code",
   "execution_count": 8,
   "metadata": {},
   "outputs": [],
   "source": [
    "def euclidean_distance(x1, x2):   \n",
    "        return np.sqrt(np.sum((x1 - x2)**2))   \n",
    "def _predict(x_test,k):   \n",
    "    distances= [euclidean_distance(x_test, x_) for x_ in x_train]\n",
    "    distances = np.asarray(distances)\n",
    "    k_indexs = np.argsort(distances)[:k]\n",
    "    k_neighbours_labels = [y_train[i] for i in k_indexs] \n",
    "    counts=dict()\n",
    "    for i in k_neighbours_labels:\n",
    "        for j in i:\n",
    "            if j in counts.keys():\n",
    "                counts[j]+=1\n",
    "            else:\n",
    "                counts[j]=1\n",
    "    most_freq = sorted(counts.items(),key=lambda x:x[1],reverse=True)\n",
    "    return most_freq[0][0]\n",
    "\n",
    "def predict(test,k):   \n",
    "    predictions=[]\n",
    "    for i in test:   \n",
    "        predictions.append(_predict(i,k))       \n",
    "    return np.array(predictions)"
   ]
  },
  {
   "cell_type": "code",
   "execution_count": 9,
   "metadata": {},
   "outputs": [
    {
     "name": "stdout",
     "output_type": "stream",
     "text": [
      "22.666666666666664\n"
     ]
    }
   ],
   "source": [
    "predictions = predict(x_test,5).reshape(-1,1)\n",
    "accuracy  = np.sum(y_test == predictions)/len(y_test)*100\n",
    "print(accuracy)"
   ]
  },
  {
   "cell_type": "code",
   "execution_count": 10,
   "metadata": {},
   "outputs": [],
   "source": [
    "score_list = []\n",
    "for each in range(1,10):        \n",
    "    prediction =predict(x_test,each).reshape(-1,1)\n",
    "    accuracy  = np.sum(y_test == prediction)/len(y_test)*100  \n",
    "    score_list.append(accuracy)\n"
   ]
  },
  {
   "cell_type": "code",
   "execution_count": 11,
   "metadata": {},
   "outputs": [
    {
     "data": {
      "image/png": "[encoded data removed]",
      "text/plain": [
       "<Figure size 432x288 with 1 Axes>"
      ]
     },
     "metadata": {
      "needs_background": "light"
     },
     "output_type": "display_data"
    }
   ],
   "source": [
    "import matplotlib.pyplot as plt\n",
    "plt.plot([each for each in range(1,10)],score_list)\n",
    "plt.xlabel(\"Number of K\")\n",
    "plt.ylabel(\"Score List\")\n",
    "plt.show()\n"
   ]
  },
  {
   "cell_type": "code",
   "execution_count": 12,
   "metadata": {},
   "outputs": [
    {
     "name": "stderr",
     "output_type": "stream",
     "text": [
      "C:\\Users\\Ogi\\Anaconda3\\lib\\site-packages\\sklearn\\utils\\validation.py:760: DataConversionWarning: A column-vector y was passed when a 1d array was expected. Please change the shape of y to (n_samples, ), for example using ravel().\n",
      "  y = column_or_1d(y, warn=True)\n"
     ]
    },
    {
     "name": "stdout",
     "output_type": "stream",
     "text": [
      "accuracy is :88.0 \n"
     ]
    },
    {
     "name": "stderr",
     "output_type": "stream",
     "text": [
      "C:\\Users\\Ogi\\Anaconda3\\lib\\site-packages\\sklearn\\linear_model\\_logistic.py:940: ConvergenceWarning: lbfgs failed to converge (status=1):\n",
      "STOP: TOTAL NO. of ITERATIONS REACHED LIMIT.\n",
      "\n",
      "Increase the number of iterations (max_iter) or scale the data as shown in:\n",
      "    https://scikit-learn.org/stable/modules/preprocessing.html\n",
      "Please also refer to the documentation for alternative solver options:\n",
      "    https://scikit-learn.org/stable/modules/linear_model.html#logistic-regression\n",
      "  extra_warning_msg=_LOGISTIC_SOLVER_CONVERGENCE_MSG)\n"
     ]
    }
   ],
   "source": [
    "from sklearn.linear_model import LogisticRegression\n",
    "lr = LogisticRegression()\n",
    "lr.fit(x_train,y_train)\n",
    "\n",
    "y_predict_lr=lr.predict(x_test).reshape(-1,1)\n",
    "accuracy  = np.sum(y_test == y_predict_lr)/len(y_test)*100\n",
    "print(f\"accuracy is :{accuracy} \")"
   ]
  },
  {
   "cell_type": "code",
   "execution_count": 13,
   "metadata": {},
   "outputs": [
    {
     "name": "stderr",
     "output_type": "stream",
     "text": [
      "C:\\Users\\Ogi\\Anaconda3\\lib\\site-packages\\sklearn\\utils\\validation.py:760: DataConversionWarning: A column-vector y was passed when a 1d array was expected. Please change the shape of y to (n_samples, ), for example using ravel().\n",
      "  y = column_or_1d(y, warn=True)\n"
     ]
    },
    {
     "name": "stdout",
     "output_type": "stream",
     "text": [
      "accuracy is :84.66666666666667 \n"
     ]
    }
   ],
   "source": [
    "from sklearn.svm import SVC\n",
    "\n",
    "svm = SVC(random_state=42)\n",
    "svm.fit(x_train,y_train)\n",
    "y_predict_svm = svm.predict(x_test).reshape(-1,1)\n",
    "accuracy  = np.sum(y_test == y_predict_svm)/len(y_test)*100\n",
    "print(f\"accuracy is :{accuracy} \")"
   ]
  },
  {
   "cell_type": "code",
   "execution_count": 14,
   "metadata": {},
   "outputs": [
    {
     "name": "stdout",
     "output_type": "stream",
     "text": [
      "Score : 0.36666666666666664\n"
     ]
    }
   ],
   "source": [
    "from sklearn.tree import DecisionTreeClassifier\n",
    "\n",
    "dt = DecisionTreeClassifier()\n",
    "\n",
    "dt.fit(x_train,y_train)\n",
    "\n",
    "\n",
    "print(\"Score :\",dt.score(x_test,y_test))"
   ]
  },
  {
   "cell_type": "code",
   "execution_count": 15,
   "metadata": {},
   "outputs": [
    {
     "name": "stderr",
     "output_type": "stream",
     "text": [
      "C:\\Users\\Ogi\\Anaconda3\\lib\\site-packages\\ipykernel_launcher.py:5: DataConversionWarning: A column-vector y was passed when a 1d array was expected. Please change the shape of y to (n_samples,), for example using ravel().\n",
      "  \"\"\"\n"
     ]
    },
    {
     "name": "stdout",
     "output_type": "stream",
     "text": [
      "Score :  0.6266666666666667\n"
     ]
    }
   ],
   "source": [
    "from sklearn.ensemble import RandomForestClassifier\n",
    "\n",
    "rf = RandomForestClassifier(n_estimators=30,random_state=2)\n",
    "\n",
    "rf.fit(x_train,y_train)\n",
    "\n",
    "print(\"Score : \",rf.score(x_test,y_test))"
   ]
  },
  {
   "cell_type": "code",
   "execution_count": null,
   "metadata": {},
   "outputs": [],
   "source": []
  }
 ],
 "metadata": {
  "colab": {
   "collapsed_sections": [
    "L39jrAuH2-j-",
    "ACwXfVcs3By_"
   ],
   "name": "CENG3526-NLP-HW-Template.ipynb",
   "provenance": []
  },
  "kernelspec": {
   "display_name": "Python 3",
   "language": "python",
   "name": "python3"
  },
  "language_info": {
   "codemirror_mode": {
    "name": "ipython",
    "version": 3
   },
   "file_extension": ".py",
   "mimetype": "text/x-python",
   "name": "python",
   "nbconvert_exporter": "python",
   "pygments_lexer": "ipython3",
   "version": "3.7.4"
  }
 },
 "nbformat": 4,
 "nbformat_minor": 1
}
